{
 "cells": [
  {
   "cell_type": "markdown",
   "id": "b85b17eb-9147-4140-8d87-48822456dde2",
   "metadata": {},
   "source": [
    "Q1. Explain the key features of python that make it a popular choice for programming?\n",
    "\n",
    "Python is a highly popular programming language due to its simplicity, flexibility, and versatility.\n",
    "Here are some key features that contribute to its widespread adoption:\n",
    "\n",
    "1. Easy to Learn and Use\n",
    "- Simple syntax and indentation-based code structure make it accessible to beginners.\n",
    "- Concise code allows for rapid prototyping and development.\n",
    "\n",
    "2. Cross-Platform Compatibility\n",
    "- Runs on multiple operating systems (Windows, macOS, Linux).\n",
    "- Extensive libraries enable seamless integration with various platforms.\n",
    "\n",
    "3. Extensive Libraries and Frameworks\n",
    "- Large collection of libraries (NumPy, Pandas, scikit-learn) for data science, machine learning, web development, and more.\n",
    "- Popular frameworks like Django, Flask, and Pyramid simplify web development.\n",
    "\n",
    "4. Dynamic Typing\n",
    "- No need for explicit variable type declarations.\n",
    "- Flexibility in coding and ease of experimentation.\n",
    "\n",
    "5. Object-Oriented Programming\n",
    "- Organizes code using objects and classes.\n",
    "- Promotes modularity, reusability, and maintainability.\n",
    "\n",
    "6. Large Community\n",
    "- Active forums and communities (Stack Overflow, Reddit).\n",
    "- Extensive documentation and tutorials.\n",
    "\n",
    "7. Rapid Development and Prototyping\n",
    "- Fast development cycles.\n",
    "- Ideal for proof-of-concepts, MVPs, and agile development.\n",
    "\n",
    "8. Integration with Other Languages\n",
    "- Easily integrates with C, C++, Java, and other languages.\n",
    "- Facilitates interoperability and leveraging existing codebases.\n",
    "\n",
    "9. Data Analysis and Science\n",
    "- Excellent support for data analysis, machine learning, and visualization.\n",
    "- Popular libraries like Pandas, NumPy, and Matplotlib.\n",
    "\n",
    "10. Open-Source\n",
    "- Free and open-source.\n",
    "- Continuously improved and expanded by the community."
   ]
  },
  {
   "cell_type": "markdown",
   "id": "b33bb13b-dd8d-4b98-bc9b-85ad480da84e",
   "metadata": {},
   "source": [
    "Q2. DESCRIBE THE ROLE OF PREDEFINED KEYWORDS IN PYTHON AND PROVIDE EXAMPLES OF HOW THEY ARE USED IN A PROGRAM?\n",
    "\n",
    "In Python, predefined keywords are reserved words that have special meanings and are used to define the structure and logic of a program. These keywords are used to specify the actions to be taken, define data types, control the flow of programs, and perform other specific functions.\n",
    "\n",
    "List of Python Keywords:\n",
    "\n",
    "Here are some of the most commonly used Python keywords:\n",
    "\n",
    "1. Conditional keywords:\n",
    "    - if\n",
    "    - elif\n",
    "    - else\n",
    "\n",
    "2. Looping keywords:\n",
    "    - for\n",
    "    - while\n",
    "\n",
    "3. Control flow keywords:\n",
    "    - break\n",
    "    - continue\n",
    "    - return\n",
    "    - pass\n",
    "\n",
    "4. Function definition keywords:\n",
    "    - def\n",
    "    - lambda\n",
    "\n",
    "5. Class definition keywords:\n",
    "    - class\n",
    "\n",
    "6. Exception handling keywords:\n",
    "    - try\n",
    "    - except\n",
    "    - finally\n",
    "    - raise\n",
    "\n",
    "7. Import keywords:\n",
    "    - import\n",
    "    - from\n",
    "\n",
    "8. Type checking keywords:\n",
    "    - isinstance\n",
    "    - type"
   ]
  },
  {
   "cell_type": "code",
   "execution_count": 1,
   "id": "8c1bf521-51e0-4b4e-8b0b-c2f1d1050207",
   "metadata": {},
   "outputs": [
    {
     "name": "stdout",
     "output_type": "stream",
     "text": [
      "x is equal to 5\n"
     ]
    }
   ],
   "source": [
    "#Here's an example program demonstrating the usage of some Python keywords:\n",
    "# Conditional keywords\n",
    "x = 5\n",
    "if x > 10:\n",
    "    print(\"x is greater than 10\")\n",
    "elif x == 5:\n",
    "    print(\"x is equal to 5\")\n",
    "else:\n",
    "    print(\"x is less than 10\")"
   ]
  },
  {
   "cell_type": "code",
   "execution_count": 2,
   "id": "7ffa9878-f12a-4be0-a61b-99e7d61cb7d7",
   "metadata": {},
   "outputs": [
    {
     "name": "stdout",
     "output_type": "stream",
     "text": [
      "apple\n",
      "banana\n",
      "cherry\n"
     ]
    }
   ],
   "source": [
    "# Looping keywords\n",
    "fruits = [\"apple\", \"banana\", \"cherry\"]\n",
    "for fruit in fruits:\n",
    "    print(fruit)"
   ]
  },
  {
   "cell_type": "code",
   "execution_count": 3,
   "id": "9e64d849-f473-4559-9fd5-0154c5f1149f",
   "metadata": {},
   "outputs": [
    {
     "name": "stdout",
     "output_type": "stream",
     "text": [
      "Hello, John!\n"
     ]
    }
   ],
   "source": [
    "# Function definition keyword\n",
    "def greet(name):\n",
    "    print(f\"Hello, {name}!\")\n",
    "\n",
    "greet(\"John\")"
   ]
  },
  {
   "cell_type": "code",
   "execution_count": 4,
   "id": "b4c35aa8-a688-47b5-822f-242934d07581",
   "metadata": {},
   "outputs": [
    {
     "name": "stdout",
     "output_type": "stream",
     "text": [
      "Error: Division by zero!\n"
     ]
    }
   ],
   "source": [
    "# Exception handling keywords\n",
    "try:\n",
    "    y = 5 / 0\n",
    "except ZeroDivisionError:\n",
    "    print(\"Error: Division by zero!\")"
   ]
  },
  {
   "cell_type": "code",
   "execution_count": 5,
   "id": "a185a097-b4e9-4fb9-8559-0ae62c3bc5c9",
   "metadata": {},
   "outputs": [
    {
     "name": "stdout",
     "output_type": "stream",
     "text": [
      "3.141592653589793\n"
     ]
    }
   ],
   "source": [
    "# Import keyword\n",
    "import math\n",
    "print(math.pi)\n"
   ]
  },
  {
   "cell_type": "code",
   "execution_count": 6,
   "id": "075b8956-cfd1-432b-933c-91a4e0d6880d",
   "metadata": {},
   "outputs": [
    {
     "name": "stdout",
     "output_type": "stream",
     "text": [
      "Toyota Camry\n"
     ]
    }
   ],
   "source": [
    "# Class definition keyword\n",
    "class Vehicle:\n",
    "    def __init__(self, brand, model):\n",
    "        self.brand = brand\n",
    "        self.model = model\n",
    "\n",
    "my_car = Vehicle(\"Toyota\", \"Camry\")\n",
    "print(my_car.brand, my_car.model)"
   ]
  },
  {
   "cell_type": "markdown",
   "id": "54d55cbd-74ee-48b2-b98f-3ea63c2da9cc",
   "metadata": {},
   "source": [
    "Q3. Compare and contrast mutable and immutable objects in python with examples?\n",
    "\n",
    "In Python, objects can be classified into two categories: mutable and immutable.\n",
    "\n",
    "1. Immutable Objects:\n",
    "Immutable objects cannot be modified after creation.\n",
    "\n",
    "Examples:\n",
    "1. Integers (int)\n",
    "2. Floats (float)\n",
    "3. Complex numbers (complex)\n",
    "4. Strings (str)\n",
    "5. Tuples (tuple)\n",
    "6. Bytes (bytes)\n",
    "7. Frozensets (frozenset)\n",
    "\n",
    "2. Mutable Objects:\n",
    "Mutable objects can be modified after creation.\n",
    "\n",
    "Examples:\n",
    "1. Lists (list)\n",
    "2. Dictionaries (dict)\n",
    "3. Sets (set)\n",
    "4. Bytearrays (bytearray)\n",
    "5. User-defined classes (unless explicitly made immutable)\n",
    "\n",
    "Comparison of Mutable and Immutable Objects:\n",
    "\n",
    "| Characteristics | Immutable | Mutable |\n",
    "| --- | --- | --- |\n",
    "| Modification | Cannot be changed | Can be changed |\n",
    "| Assignment | Creates new object | Modifies existing object |\n",
    "| Memory Allocation | Fixed | Dynamic |\n",
    "| Hashability | Hashable | Non-hashable (except tuples) |\n",
    "\n"
   ]
  },
  {
   "cell_type": "code",
   "execution_count": 11,
   "id": "4cd90465-838d-4b49-b7e5-7007f940ccab",
   "metadata": {},
   "outputs": [
    {
     "name": "stdout",
     "output_type": "stream",
     "text": [
      "6\n",
      "5\n"
     ]
    }
   ],
   "source": [
    "#Immutable Objects:\n",
    "\n",
    "# Integer\n",
    "x = 5\n",
    "y = x\n",
    "x += 1\n",
    "print(x)  # 6\n",
    "print(y)  # 5 (unchanged)"
   ]
  },
  {
   "cell_type": "code",
   "execution_count": 12,
   "id": "63ead5dd-c409-48bf-838d-6877a12cb493",
   "metadata": {},
   "outputs": [
    {
     "name": "stdout",
     "output_type": "stream",
     "text": [
      "hello world\n",
      "hello\n"
     ]
    }
   ],
   "source": [
    "#Immutable Objects:\n",
    "\n",
    "# String\n",
    "s1 = \"hello\"\n",
    "s2 = s1\n",
    "s1 += \" world\"\n",
    "print(s1)  # \"hello world\"\n",
    "print(s2)  # \"hello\" (unchanged)\n"
   ]
  },
  {
   "cell_type": "code",
   "execution_count": 13,
   "id": "ee3ce525-67d9-44ae-9083-35f4f6fb821e",
   "metadata": {},
   "outputs": [
    {
     "name": "stdout",
     "output_type": "stream",
     "text": [
      "[1, 2, 3, 4]\n",
      "[1, 2, 3, 4]\n"
     ]
    }
   ],
   "source": [
    "#Mutable Objects:\n",
    "\n",
    "# List\n",
    "l1 = [1, 2, 3]\n",
    "l2 = l1\n",
    "l1.append(4)\n",
    "print(l1)  # [1, 2, 3, 4]\n",
    "print(l2)  # [1, 2, 3, 4] (modified)"
   ]
  },
  {
   "cell_type": "code",
   "execution_count": 14,
   "id": "5ac8c6a0-cce4-41d6-8629-ab251bb239c0",
   "metadata": {},
   "outputs": [
    {
     "name": "stdout",
     "output_type": "stream",
     "text": [
      "{'a': 1, 'b': 2}\n",
      "{'a': 1, 'b': 2}\n"
     ]
    }
   ],
   "source": [
    "#Mutable Objects:\n",
    "\n",
    "# Dictionary\n",
    "d1 = {\"a\": 1}\n",
    "d2 = d1\n",
    "d1[\"b\"] = 2\n",
    "print(d1)  # {\"a\": 1, \"b\": 2}\n",
    "print(d2)  # {\"a\": 1, \"b\": 2} (modified)"
   ]
  },
  {
   "cell_type": "markdown",
   "id": "6a349eec-d78e-4047-980d-128d2293a7c2",
   "metadata": {},
   "source": [
    "Q4. Discuss the different types of operators in python and provide examples of how they are used.\n",
    "\n",
    "Python supports various types of operators that enable you to perform operations on variables and values. Here are the main categories of operators in Python\n"
   ]
  },
  {
   "cell_type": "markdown",
   "id": "c5b44bb5-6c9d-4559-9797-0923cb06179d",
   "metadata": {},
   "source": [
    "#EXAMPLES OF DIFFERENT TYPES OF OPERATORS\n",
    "\n",
    "#1. Arithmetic Operators\n",
    "\n",
    "#Perform mathematical operations.\n",
    "\n",
    "| Operator | Description | Example |\n",
    "| --- | --- | --- |\n",
    "| + | Addition | a = 2 + 3 → a = 5 |\n",
    "| - | Subtraction | a = 5 - 2 → a = 3 |\n",
    "| * | Multiplication | a = 4 * 5 → a = 20 |\n",
    "| / | Division | a = 10 / 2 → a = 5.0 |\n",
    "| // | Floor Division | a = 10 // 3 → a = 3 |\n",
    "| ** | Exponentiation | a = 2 ** 3 → a = 8 |\n",
    "| % | Modulus (remainder) | a = 10 % 3 → a = 1 |\n",
    "\n",
    "\n",
    "2. Comparison Operators\n",
    "\n",
    "#Compare values.\n",
    "\n",
    "| Operator | Description | Example |\n",
    "| --- | --- | --- |\n",
    "| == | Equal | a = 5; b = 5; a == b → True |\n",
    "| != | Not Equal | a = 5; b = 3; a != b → True |\n",
    "| > | Greater Than | a = 5; b = 3; a > b → True |\n",
    "| < | Less Than | a = 3; b = 5; a < b → True |\n",
    "| >= | Greater Than or Equal | a = 5; b = 5; a >= b → True |\n",
    "| <= | Less Than or Equal | a = 3; b = 5; a <= b → True |\n",
    "\n",
    "#3. Logical Operators\n",
    "\n",
    "#Combine conditional statements.\n",
    "\n",
    "| Operator | Description | Example |\n",
    "| --- | --- | --- |\n",
    "| and | Logical AND | a = True; b = True; a and b → True |\n",
    "| or | Logical OR | a = True; b = False; a or b → True |\n",
    "| not | Logical NOT | a = True; not a → False |\n",
    "\n",
    "#4. Assignment Operators\n",
    "\n",
    "#Assign values.\n",
    "\n",
    "| Operator | Description | Example |\n",
    "| --- | --- | --- |\n",
    "| = | Assign | a = 5 |\n",
    "| += | Add and Assign | a = 5; a += 3 → a = 8 |\n",
    "| -= | Subtract and Assign | a = 5; a -= 2 → a = 3 |\n",
    "| *= | Multiply and Assign | a = 5; a *= 2 → a = 10 |\n",
    "| /= | Divide and Assign | a = 10; a /= 2 → a = 5.0 |\n",
    "\n",
    "#5. Bitwise Operators\n",
    "\n",
    "#Perform binary operations.\n",
    "\n",
    "| Operator | Description | Example |\n",
    "| --- | --- | --- |\n",
    "| & | Bitwise AND | a = 5; b = 3; a & b → 1 |\n",
    "| | | Bitwise OR | a = 5; b = 3; a | b → 7 |\n",
    "| ^ | Bitwise XOR | a = 5; b = 3; a ^ b → 6 |\n",
    "| ~ | Bitwise NOT | a = 5; ~a → -6 |\n",
    "| << | Left Shift | a = 5; a << 1 → 10 |\n",
    "| >> | Right Shift | a = 10; a >> 1 → 5 |\n",
    "\n",
    "#6. Membership Operators\n",
    "\n",
    "#Check membership.\n",
    "\n",
    "| Operator | Description | Example |\n",
    "| --- | --- | --- |\n",
    "| in | Member of | a = [1, 2, 3]; 2 in a → True |\n",
    "| not in | Not Member of | a = [1, 2, 3]; 4 not in a → True |\n",
    "\n",
    "#7. Identity Operators\n",
    "\n",
    "#Check object identity.\n",
    "\n",
    "| Operator | Description | Example |\n",
    "| --- | --- | --- |\n",
    "| is | Object Identity | a = [1, 2, 3]; b = [1, 2, 3]; a is b → False |\n",
    "| is not | Object Non-Identity | `a = [1]"
   ]
  },
  {
   "cell_type": "markdown",
   "id": "40a86f96-4f1b-49e7-bd1d-ff51e6ff834d",
   "metadata": {},
   "source": [
    "Q5. Explain the concept of type casting in python with examples.\n",
    "\n",
    "Type casting in Python is the process of converting a variable from one data type to another. This is useful when you need to perform operations that require a specific data type.\n",
    "\n",
    "Types of Type Casting:\n",
    "1. Implicit Type Casting (Automatic)\n",
    "2. Explicit Type Casting (Manual)"
   ]
  },
  {
   "cell_type": "markdown",
   "id": "a431b213-0689-49e0-a63b-f9ee6b5ce077",
   "metadata": {},
   "source": [
    "#Implicit Type Casting:\n",
    "\n",
    "#Python automatically performs implicit type casting in certain situations.\n",
    "\n",
    "#Examples:\n",
    "#- When performing arithmetic operations between different numeric types:\n",
    "\n",
    "```python\n",
    "\n",
    "a = 5   # int\n",
    "b = 2.5 # float\n",
    "result = a + b \n",
    "\n",
    "\n",
    "#When concatenating strings with other data types:\n",
    "\n",
    "\n",
    "    python\n",
    "name = \"John\"\n",
    "age = 30\n",
    "greeting = \"Hello, \" + name + \" (\" + str(age) + \")\" \n"
   ]
  },
  {
   "cell_type": "code",
   "execution_count": 31,
   "id": "080f6636-5285-467a-be75-e09e646eb9dd",
   "metadata": {},
   "outputs": [
    {
     "name": "stdout",
     "output_type": "stream",
     "text": [
      "123\n"
     ]
    }
   ],
   "source": [
    "#Explicit Type Casting:*\n",
    "\n",
    "#You can use built-in functions to manually convert data types.\n",
    "\n",
    "\n",
    "#Examples:\n",
    "\n",
    "\n",
    "#Converting string to integer:\n",
    "\n",
    "num_str = \"123\"\n",
    "num_int = int(num_str)\n",
    "print(num_int)"
   ]
  },
  {
   "cell_type": "code",
   "execution_count": 33,
   "id": "d4547bc3-6f5a-4619-acbc-2ff76bbacf72",
   "metadata": {},
   "outputs": [
    {
     "name": "stdout",
     "output_type": "stream",
     "text": [
      "123.0\n"
     ]
    }
   ],
   "source": [
    "#Converting integer to float:\n",
    "\n",
    "\n",
    "    #python\n",
    "num_int = 123\n",
    "num_float = float(num_int)\n",
    "print(num_float)"
   ]
  },
  {
   "cell_type": "code",
   "execution_count": 28,
   "id": "1d5ceee3-b376-4ddb-86a9-bec6654ae1d7",
   "metadata": {},
   "outputs": [
    {
     "name": "stdout",
     "output_type": "stream",
     "text": [
      "123\n"
     ]
    }
   ],
   "source": [
    "#Converting float to integer:\n",
    "\n",
    "#python\n",
    "\n",
    "num_float = 123.456\n",
    "num_int = int(num_float)\n",
    "print(num_int)"
   ]
  },
  {
   "cell_type": "markdown",
   "id": "57b8eb0a-a5d3-4526-9680-955bdd263b9b",
   "metadata": {},
   "source": [
    "Q6.How do conditional statements work in python? Illustrate with examples.\n",
    "\n",
    "Conditional statements in Python are used to execute specific blocks of code based on conditions or decisions.\n",
    "\n",
    "\n",
    "Types of Conditional Statements:\n",
    "\n",
    "1. If Statement\n",
    "2. If-Else Statement\n",
    "3. If-Elif-Else Statement\n",
    "4. Nested If Statements"
   ]
  },
  {
   "cell_type": "code",
   "execution_count": 1,
   "id": "12dcf72f-61f4-4112-ab70-dec1c79cf552",
   "metadata": {},
   "outputs": [
    {
     "name": "stdout",
     "output_type": "stream",
     "text": [
      "x is greater than 5\n"
     ]
    }
   ],
   "source": [
    "#1. If Statement:\n",
    "\n",
    "#Executes a block of code if a condition is true.\n",
    "\n",
    "x = 10\n",
    "if x > 5:\n",
    "    print(\"x is greater than 5\")"
   ]
  },
  {
   "cell_type": "code",
   "execution_count": 2,
   "id": "66405d30-1c17-4a38-9223-d717f83f08c3",
   "metadata": {},
   "outputs": [
    {
     "name": "stdout",
     "output_type": "stream",
     "text": [
      "x is greater than 5\n"
     ]
    }
   ],
   "source": [
    "#2. If-Else Statement:\n",
    "\n",
    "#Executes one block of code if a condition is true and another if it's false.\n",
    "\n",
    "x = 10\n",
    "if x > 5:\n",
    "    print(\"x is greater than 5\")\n",
    "else:\n",
    "    print(\"x is less than or equal to 5\")"
   ]
  },
  {
   "cell_type": "code",
   "execution_count": 3,
   "id": "162f7ba3-d32e-481c-82bf-ae4e2732c7b4",
   "metadata": {},
   "outputs": [
    {
     "name": "stdout",
     "output_type": "stream",
     "text": [
      "x is greater than 5 but less than or equal to 15\n"
     ]
    }
   ],
   "source": [
    "#3. If-Elif-Else Statement:\n",
    "\n",
    "#Executes different blocks of code based on multiple conditions.\n",
    "\n",
    "x = 10\n",
    "if x > 15:\n",
    "    print(\"x is greater than 15\")\n",
    "elif x > 5:\n",
    "    print(\"x is greater than 5 but less than or equal to 15\")\n",
    "else:\n",
    "    print(\"x is less than or equal to 5\")"
   ]
  },
  {
   "cell_type": "code",
   "execution_count": 4,
   "id": "50b26aa5-3ca6-4cf6-9a77-e86ccd123f3b",
   "metadata": {},
   "outputs": [
    {
     "name": "stdout",
     "output_type": "stream",
     "text": [
      "x is greater than 5 and y is greater than 2\n"
     ]
    }
   ],
   "source": [
    "#4. Nested If Statements:\n",
    "\n",
    "#Executes conditional statements inside other conditional statements.\n",
    "\n",
    "x = 10\n",
    "y = 5\n",
    "if x > 5:\n",
    "    if y > 2:\n",
    "        print(\"x is greater than 5 and y is greater than 2\")\n",
    "    else:\n",
    "        print(\"x is greater than 5 but y is less than or equal to 2\")"
   ]
  },
  {
   "cell_type": "code",
   "execution_count": 5,
   "id": "4b18246a-2b8b-4369-b126-4be11648e883",
   "metadata": {},
   "outputs": [
    {
     "name": "stdout",
     "output_type": "stream",
     "text": [
      "x is greater than 5 and y is greater than 2\n"
     ]
    }
   ],
   "source": [
    "#4. Nested If Statements:\n",
    "\n",
    "#Executes conditional statements inside other conditional statements.\n",
    "\n",
    "x = 10\n",
    "y = 5\n",
    "if x > 5:\n",
    "    if y > 2:\n",
    "        print(\"x is greater than 5 and y is greater than 2\")\n",
    "    else:\n",
    "        print(\"x is greater than 5 but y is less than or equal to 2\")"
   ]
  },
  {
   "cell_type": "markdown",
   "id": "c67bcbc8-0d3b-4659-a12e-6fd6417cb75e",
   "metadata": {},
   "source": [
    "Q7. Describe the different types of loops in python and their uses cases with examples\n",
    "\n",
    "Python supports three types of loops:\n",
    "\n",
    "1. For Loop\n",
    "\n",
    "Iterates over a sequence (list, tuple, string, dictionary, set) or other iterable objects.\n",
    "\n",
    "**Syntax:**\n",
    "\n",
    "python\n",
    "\n",
    "for variable in iterable:\n",
    " do something with variable"
   ]
  },
  {
   "cell_type": "code",
   "execution_count": 10,
   "id": "ddeeac91-da83-4631-a509-9d588470129b",
   "metadata": {},
   "outputs": [
    {
     "name": "stdout",
     "output_type": "stream",
     "text": [
      "apple\n",
      "banana\n",
      "cherry\n"
     ]
    }
   ],
   "source": [
    "#Example of for loop\n",
    "\n",
    "fruits = [\"apple\", \"banana\", \"cherry\"]\n",
    "for fruit in fruits:\n",
    "    print(fruit)\n",
    "    \n",
    "#Use Cases:\n",
    "\n",
    "#   Iterate over collections (lists, tuples, dictionaries)\n",
    "#   Process data from files or databases\n",
    "#   Perform operations on strings"
   ]
  },
  {
   "cell_type": "markdown",
   "id": "a5d016fb-233e-450a-ab9c-fa815dcd9970",
   "metadata": {},
   "source": [
    "2. While Loop\n",
    "\n",
    "Continues to execute as long as a certain condition is true.\n",
    "\n",
    "\n",
    "**Syntax:**\n",
    "\n",
    "\n",
    "python\n",
    "\n",
    "while condition:\n",
    "do something"
   ]
  },
  {
   "cell_type": "code",
   "execution_count": 11,
   "id": "c475c4e5-0820-4af2-b697-94c97fd18b90",
   "metadata": {},
   "outputs": [
    {
     "name": "stdout",
     "output_type": "stream",
     "text": [
      "0\n",
      "1\n",
      "2\n",
      "3\n",
      "4\n"
     ]
    }
   ],
   "source": [
    "#Example of while loop:\n",
    "\n",
    "i = 0\n",
    "while i < 5:\n",
    "    print(i)\n",
    "    i += 1\n",
    "    \n",
    "#Use Cases:\n",
    "\n",
    "#  Handle user input validation\n",
    "#   Implement algorithms with uncertain iterations\n",
    "#   Control flow for games or simulations"
   ]
  },
  {
   "cell_type": "markdown",
   "id": "ecbb62ea-fdd9-440b-8aab-abd6bcfebd21",
   "metadata": {},
   "source": [
    "3. Nested Loop\n",
    "\n",
    "Loops inside other loops.\n",
    "\n",
    "Syntax:\n",
    "\n",
    "python\n",
    "\n",
    "for variable1 in iterable1:\n",
    "for variable2 in iterable2:\n",
    "do something"
   ]
  },
  {
   "cell_type": "code",
   "execution_count": 13,
   "id": "8c350d65-4943-4d45-a360-3f3e3de846d3",
   "metadata": {},
   "outputs": [
    {
     "name": "stdout",
     "output_type": "stream",
     "text": [
      "red circle\n",
      "red square\n",
      "red triangle\n",
      "green circle\n",
      "green square\n",
      "green triangle\n",
      "blue circle\n",
      "blue square\n",
      "blue triangle\n"
     ]
    }
   ],
   "source": [
    "#Exmaple of Nested loop\n",
    "\n",
    "colors = [\"red\", \"green\", \"blue\"]\n",
    "shapes = [\"circle\", \"square\", \"triangle\"]\n",
    "for color in colors:\n",
    "    for shape in shapes:\n",
    "        print(f\"{color} {shape}\")\n",
    "        \n",
    "#Use Cases:\n",
    "#   Generate combinations of data\n",
    "#   Process multi-dimensional data\n",
    "#   Create grids or matrices        "
   ]
  },
  {
   "cell_type": "code",
   "execution_count": null,
   "id": "44ba8012-e710-4fc1-aac9-e9b6af95a4db",
   "metadata": {},
   "outputs": [],
   "source": []
  }
 ],
 "metadata": {
  "kernelspec": {
   "display_name": "Python 3 (ipykernel)",
   "language": "python",
   "name": "python3"
  },
  "language_info": {
   "codemirror_mode": {
    "name": "ipython",
    "version": 3
   },
   "file_extension": ".py",
   "mimetype": "text/x-python",
   "name": "python",
   "nbconvert_exporter": "python",
   "pygments_lexer": "ipython3",
   "version": "3.10.8"
  }
 },
 "nbformat": 4,
 "nbformat_minor": 5
}
